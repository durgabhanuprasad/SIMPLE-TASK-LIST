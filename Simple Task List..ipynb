{
 "cells": [
  {
   "cell_type": "code",
   "execution_count": null,
   "id": "3edf7f84-66b6-41e3-a939-ac70a8df1b12",
   "metadata": {},
   "outputs": [
    {
     "name": "stdout",
     "output_type": "stream",
     "text": [
      "\n",
      "Task Manager Menu:\n",
      "1. Add a task\n",
      "2. Remove a task\n",
      "3. List all tasks\n",
      "4. Prioritize a task\n",
      "5. Mark a task as completed\n",
      "6. Get task recommendations\n",
      "7. Exit\n"
     ]
    },
    {
     "name": "stdin",
     "output_type": "stream",
     "text": [
      "Enter your choice (1-7):  1\n",
      "Enter task description:  Finish project report\n",
      "Enter priority (low/medium/high, default medium):  high\n"
     ]
    },
    {
     "name": "stdout",
     "output_type": "stream",
     "text": [
      "Task added: Finish project report (Priority: high)\n",
      "\n",
      "Task Manager Menu:\n",
      "1. Add a task\n",
      "2. Remove a task\n",
      "3. List all tasks\n",
      "4. Prioritize a task\n",
      "5. Mark a task as completed\n",
      "6. Get task recommendations\n",
      "7. Exit\n"
     ]
    },
    {
     "name": "stdin",
     "output_type": "stream",
     "text": [
      "Enter your choice (1-7):  3\n"
     ]
    },
    {
     "name": "stdout",
     "output_type": "stream",
     "text": [
      "\n",
      "Task List:\n",
      "----------------------------------------\n",
      "1. [ ] Finish project report (Priority: high)\n",
      "----------------------------------------\n",
      "\n",
      "Task Manager Menu:\n",
      "1. Add a task\n",
      "2. Remove a task\n",
      "3. List all tasks\n",
      "4. Prioritize a task\n",
      "5. Mark a task as completed\n",
      "6. Get task recommendations\n",
      "7. Exit\n"
     ]
    },
    {
     "name": "stdin",
     "output_type": "stream",
     "text": [
      "Enter your choice (1-7):  4\n",
      "Enter task ID to prioritize:  2\n",
      "Enter new priority (low/medium/high):  medium\n"
     ]
    },
    {
     "name": "stdout",
     "output_type": "stream",
     "text": [
      "Task with ID 2 not found.\n",
      "\n",
      "Task Manager Menu:\n",
      "1. Add a task\n",
      "2. Remove a task\n",
      "3. List all tasks\n",
      "4. Prioritize a task\n",
      "5. Mark a task as completed\n",
      "6. Get task recommendations\n",
      "7. Exit\n"
     ]
    },
    {
     "name": "stdin",
     "output_type": "stream",
     "text": [
      "Enter your choice (1-7):  5\n",
      "Enter task ID to mark as completed:  3\n"
     ]
    },
    {
     "name": "stdout",
     "output_type": "stream",
     "text": [
      "Task with ID 3 not found.\n",
      "\n",
      "Task Manager Menu:\n",
      "1. Add a task\n",
      "2. Remove a task\n",
      "3. List all tasks\n",
      "4. Prioritize a task\n",
      "5. Mark a task as completed\n",
      "6. Get task recommendations\n",
      "7. Exit\n"
     ]
    },
    {
     "name": "stdin",
     "output_type": "stream",
     "text": [
      "Enter your choice (1-7):  1\n",
      "Enter task description:  call mom\n",
      "Enter priority (low/medium/high, default medium):  high\n"
     ]
    },
    {
     "name": "stdout",
     "output_type": "stream",
     "text": [
      "Task added: call mom (Priority: high)\n",
      "\n",
      "Task Manager Menu:\n",
      "1. Add a task\n",
      "2. Remove a task\n",
      "3. List all tasks\n",
      "4. Prioritize a task\n",
      "5. Mark a task as completed\n",
      "6. Get task recommendations\n",
      "7. Exit\n"
     ]
    },
    {
     "name": "stdin",
     "output_type": "stream",
     "text": [
      "Enter your choice (1-7):  6\n"
     ]
    }
   ],
   "source": [
    "class TaskManager:\n",
    "    def __init__(self):\n",
    "        self.tasks = []\n",
    "        self.priority_levels = {\"low\": 1, \"medium\": 2, \"high\": 3}\n",
    "    \n",
    "    def add_task(self, description, priority=\"medium\"):\n",
    "        \"\"\"Add a new task to the list\"\"\"\n",
    "        if priority.lower() not in self.priority_levels:\n",
    "            print(f\"Invalid priority level. Using 'medium'. Available levels: {list(self.priority_levels.keys())}\")\n",
    "            priority = \"medium\"\n",
    "        \n",
    "        task = {\n",
    "            \"id\": len(self.tasks) + 1,\n",
    "            \"description\": description,\n",
    "            \"priority\": priority.lower(),\n",
    "            \"completed\": False\n",
    "        }\n",
    "        self.tasks.append(task)\n",
    "        print(f\"Task added: {description} (Priority: {priority})\")\n",
    "    \n",
    "    def remove_task(self, task_id):\n",
    "        \"\"\"Remove a task by its ID\"\"\"\n",
    "        for i, task in enumerate(self.tasks):\n",
    "            if task[\"id\"] == task_id:\n",
    "                removed_task = self.tasks.pop(i)\n",
    "                print(f\"Removed task: {removed_task['description']}\")\n",
    "                # Update IDs of remaining tasks\n",
    "                for t in self.tasks[i:]:\n",
    "                    t[\"id\"] -= 1\n",
    "                return\n",
    "        print(f\"Task with ID {task_id} not found.\")\n",
    "    \n",
    "    def list_tasks(self):\n",
    "        \"\"\"List all tasks with their details\"\"\"\n",
    "        if not self.tasks:\n",
    "            print(\"No tasks in the list.\")\n",
    "            return\n",
    "        \n",
    "        print(\"\\nTask List:\")\n",
    "        print(\"-\" * 40)\n",
    "        for task in self.tasks:\n",
    "            status = \"✓\" if task[\"completed\"] else \" \"\n",
    "            print(f\"{task['id']}. [{status}] {task['description']} (Priority: {task['priority']})\")\n",
    "        print(\"-\" * 40)\n",
    "    \n",
    "    def prioritize_task(self, task_id, new_priority):\n",
    "        \"\"\"Change the priority of a task\"\"\"\n",
    "        if new_priority.lower() not in self.priority_levels:\n",
    "            print(f\"Invalid priority level. Available levels: {list(self.priority_levels.keys())}\")\n",
    "            return\n",
    "        \n",
    "        for task in self.tasks:\n",
    "            if task[\"id\"] == task_id:\n",
    "                old_priority = task[\"priority\"]\n",
    "                task[\"priority\"] = new_priority.lower()\n",
    "                print(f\"Changed priority for task {task_id} from {old_priority} to {new_priority}\")\n",
    "                return\n",
    "        print(f\"Task with ID {task_id} not found.\")\n",
    "    \n",
    "    def complete_task(self, task_id):\n",
    "        \"\"\"Mark a task as completed\"\"\"\n",
    "        for task in self.tasks:\n",
    "            if task[\"id\"] == task_id:\n",
    "                if task[\"completed\"]:\n",
    "                    print(f\"Task {task_id} is already completed.\")\n",
    "                else:\n",
    "                    task[\"completed\"] = True\n",
    "                    print(f\"Marked task {task_id} as completed: {task['description']}\")\n",
    "                return\n",
    "        print(f\"Task with ID {task_id} not found.\")\n",
    "    \n",
    "    def get_recommendations(self, keyword):\n",
    "        \"\"\"Get task recommendations based on a keyword\"\"\"\n",
    "        matching_tasks = [task for task in self.tasks \n",
    "                         if not task[\"completed\"] and keyword.lower() in task[\"description\"].lower()]\n",
    "        \n",
    "        if not matching_tasks:\n",
    "            print(f\"No tasks found containing '{keyword}'.\")\n",
    "            return\n",
    "        \n",
    "        print(f\"\\nRecommended tasks containing '{keyword}':\")\n",
    "        for task in sorted(matching_tasks, key=lambda x: self.priority_levels[x[\"priority\"]], reverse=True):\n",
    "            print(f\"{task['id']}. {task['description']} (Priority: {task['priority']})\")\n",
    "    \n",
    "    def show_menu(self):\n",
    "        \"\"\"Display the main menu\"\"\"\n",
    "        print(\"\\nTask Manager Menu:\")\n",
    "        print(\"1. Add a task\")\n",
    "        print(\"2. Remove a task\")\n",
    "        print(\"3. List all tasks\")\n",
    "        print(\"4. Prioritize a task\")\n",
    "        print(\"5. Mark a task as completed\")\n",
    "        print(\"6. Get task recommendations\")\n",
    "        print(\"7. Exit\")\n",
    "\n",
    "def main():\n",
    "    manager = TaskManager()\n",
    "    \n",
    "    while True:\n",
    "        manager.show_menu()\n",
    "        choice = input(\"Enter your choice (1-7): \")\n",
    "        \n",
    "        if choice == \"1\":\n",
    "            description = input(\"Enter task description: \")\n",
    "            priority = input(\"Enter priority (low/medium/high, default medium): \") or \"medium\"\n",
    "            manager.add_task(description, priority)\n",
    "        elif choice == \"2\":\n",
    "            task_id = input(\"Enter task ID to remove: \")\n",
    "            if task_id.isdigit():\n",
    "                manager.remove_task(int(task_id))\n",
    "            else:\n",
    "                print(\"Invalid task ID. Please enter a number.\")\n",
    "        elif choice == \"3\":\n",
    "            manager.list_tasks()\n",
    "        elif choice == \"4\":\n",
    "            task_id = input(\"Enter task ID to prioritize: \")\n",
    "            if task_id.isdigit():\n",
    "                new_priority = input(\"Enter new priority (low/medium/high): \")\n",
    "                manager.prioritize_task(int(task_id), new_priority)\n",
    "            else:\n",
    "                print(\"Invalid task ID. Please enter a number.\")\n",
    "        elif choice == \"5\":\n",
    "            task_id = input(\"Enter task ID to mark as completed: \")\n",
    "            if task_id.isdigit():\n",
    "                manager.complete_task(int(task_id))\n",
    "            else:\n",
    "                print(\"Invalid task ID. Please enter a number.\")\n",
    "        elif choice == \"6\":\n",
    "            keyword = input(\"Enter keyword to search for recommendations: \")\n",
    "            manager.get_recommendations(keyword)\n",
    "        elif choice == \"7\":\n",
    "            print(\"Exiting Task Manager. Goodbye!\")\n",
    "            break\n",
    "        else:\n",
    "            print(\"Invalid choice. Please enter a number between 1 and 7.\")\n",
    "\n",
    "if __name__ == \"__main__\":\n",
    "    main()"
   ]
  },
  {
   "cell_type": "code",
   "execution_count": null,
   "id": "a8b4bf48-fc89-4fab-88e7-914ced9c5a3a",
   "metadata": {},
   "outputs": [],
   "source": []
  }
 ],
 "metadata": {
  "kernelspec": {
   "display_name": "Python 3 (ipykernel)",
   "language": "python",
   "name": "python3"
  },
  "language_info": {
   "codemirror_mode": {
    "name": "ipython",
    "version": 3
   },
   "file_extension": ".py",
   "mimetype": "text/x-python",
   "name": "python",
   "nbconvert_exporter": "python",
   "pygments_lexer": "ipython3",
   "version": "3.12.4"
  }
 },
 "nbformat": 4,
 "nbformat_minor": 5
}
